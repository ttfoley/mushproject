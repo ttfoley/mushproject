{
 "cells": [
  {
   "cell_type": "code",
   "execution_count": null,
   "metadata": {},
   "outputs": [],
   "source": [
    "import polars as pl\n",
    "from influxdb_client.client.influxdb_client import InfluxDBClient\n",
    "from influxdb_client import __version__ as influxdb_version\n",
    "from datetime import datetime, timedelta\n",
    "from matplotlib import pyplot as plt\n",
    "import seaborn as sns\n",
    "import numpy as np\n",
    "\n",
    "# InfluxDB connection\n",
    "url = \"http://192.168.1.17:8086\"\n",
    "token = \"_gCwoPkdKM6aF-SXB9crHatd4lKFBXKVcBHhyHMgCqTI2GvsxWkO6qooThciZp49Ra-dQR9B6jOd_ve5isMcHw==\"\n",
    "org = \"mush\"\n",
    "bucket = \"bucket\"\n",
    "\n",
    "client = InfluxDBClient(url=url, token=token, org=org)\n",
    "query_api = client.query_api()"
   ]
  }
 ],
 "metadata": {
  "kernelspec": {
   "display_name": "Python 3.12 (Mushroom Analysis)",
   "language": "python",
   "name": "mushroom-analysis"
  },
  "language_info": {
   "name": "python",
   "version": "3.10.12"
  }
 },
 "nbformat": 4,
 "nbformat_minor": 2
}
