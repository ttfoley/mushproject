{
 "cells": [
  {
   "cell_type": "code",
   "execution_count": 1,
   "metadata": {},
   "outputs": [],
   "source": [
    "import polars as pl\n",
    "from influxdb_client.client.influxdb_client import InfluxDBClient\n",
    "from influxdb_client import __version__ as influxdb_version\n",
    "from datetime import datetime, timedelta\n",
    "from matplotlib import pyplot as plt\n",
    "import seaborn as sns\n",
    "import numpy as np\n",
    "\n",
    "# InfluxDB connection\n",
    "url = \"http://192.168.1.17:8086\"\n",
    "token = \"_gCwoPkdKM6aF-SXB9crHatd4lKFBXKVcBHhyHMgCqTI2GvsxWkO6qooThciZp49Ra-dQR9B6jOd_ve5isMcHw==\"\n",
    "org = \"mush\"\n",
    "bucket = \"bucket\"\n",
    "\n",
    "client = InfluxDBClient(url=url, token=token, org=org)\n",
    "query_api = client.query_api()"
   ]
  },
  {
   "cell_type": "code",
   "execution_count": 12,
   "metadata": {},
   "outputs": [
    {
     "name": "stdout",
     "output_type": "stream",
     "text": [
      "Fetching data from 2025-03-07 00:00:00 to 2025-03-08 00:00:00\n",
      "Got 59902 records for this chunk\n",
      "Fetching data from 2025-03-08 00:00:00 to 2025-03-09 00:00:00\n",
      "Got 59937 records for this chunk\n",
      "Fetching data from 2025-03-09 00:00:00 to 2025-03-10 00:00:00\n",
      "Got 59928 records for this chunk\n",
      "Fetching data from 2025-03-10 00:00:00 to 2025-03-11 00:00:00\n",
      "Got 59926 records for this chunk\n",
      "Fetching data from 2025-03-11 00:00:00 to 2025-03-12 00:00:00\n",
      "Got 59936 records for this chunk\n",
      "Fetching data from 2025-03-12 00:00:00 to 2025-03-13 00:00:00\n",
      "Got 59938 records for this chunk\n",
      "Fetching data from 2025-03-13 00:00:00 to 2025-03-14 00:00:00\n",
      "Got 59932 records for this chunk\n",
      "Total records: 419499\n"
     ]
    }
   ],
   "source": [
    "from datetime import datetime, timedelta\n",
    "\n",
    "start_date = datetime(2025, 3, 7)\n",
    "end_date = datetime(2025, 3, 14)\n",
    "chunk_size = timedelta(days=1)\n",
    "\n",
    "all_records = []\n",
    "current_date = start_date\n",
    "\n",
    "while current_date < end_date:\n",
    "    chunk_end = min(current_date + chunk_size, end_date)\n",
    "    \n",
    "    print(f\"Fetching data from {current_date} to {chunk_end}\")\n",
    "    \n",
    "    query = f'''\n",
    "    from(bucket: \"bucket\")\n",
    "      |> range(start: {current_date.strftime(\"%Y-%m-%dT%H:%M:%SZ\")}, stop: {chunk_end.strftime(\"%Y-%m-%dT%H:%M:%SZ\")})\n",
    "      |> filter(fn: (r) => r[\"_measurement\"] == \"mqtt_consumer\")\n",
    "      |> filter(fn: (r) => r[\"topic\"] =~ /(temperature|humidity)$/)\n",
    "    '''\n",
    "    \n",
    "    result = query_api.query(query=query)\n",
    "    \n",
    "    chunk_records = []\n",
    "    for table in result:\n",
    "        for record in table.records:\n",
    "            chunk_records.append({\n",
    "                'time': record.get_time(),\n",
    "                'measurement': record.values.get('measurement'),\n",
    "                'value': record.get_value(),\n",
    "                'sensor': record.values.get('device'),\n",
    "                'topic': record.values.get('topic')\n",
    "            })\n",
    "    \n",
    "    print(f\"Got {len(chunk_records)} records for this chunk\")\n",
    "    all_records.extend(chunk_records)\n",
    "    current_date = chunk_end\n",
    "\n",
    "print(f\"Total records: {len(all_records)}\")\n",
    "df = pl.DataFrame(all_records)"
   ]
  },
  {
   "cell_type": "code",
   "execution_count": 13,
   "metadata": {},
   "outputs": [
    {
     "data": {
      "text/html": [
       "<div><style>\n",
       ".dataframe > thead > tr,\n",
       ".dataframe > tbody > tr {\n",
       "  text-align: right;\n",
       "  white-space: pre-wrap;\n",
       "}\n",
       "</style>\n",
       "<small>shape: (419_499, 5)</small><table border=\"1\" class=\"dataframe\"><thead><tr><th>time</th><th>measurement</th><th>value</th><th>sensor</th><th>topic</th></tr><tr><td>datetime[μs, UTC]</td><td>str</td><td>f64</td><td>str</td><td>str</td></tr></thead><tbody><tr><td>2025-03-07 00:00:11.618779 UTC</td><td>&quot;humidity&quot;</td><td>94.13</td><td>&quot;bme280_0&quot;</td><td>&quot;mush/controllers/C1/sensors/bm…</td></tr><tr><td>2025-03-07 00:00:27.250501 UTC</td><td>&quot;humidity&quot;</td><td>94.14</td><td>&quot;bme280_0&quot;</td><td>&quot;mush/controllers/C1/sensors/bm…</td></tr><tr><td>2025-03-07 00:00:42.814878 UTC</td><td>&quot;humidity&quot;</td><td>94.16</td><td>&quot;bme280_0&quot;</td><td>&quot;mush/controllers/C1/sensors/bm…</td></tr><tr><td>2025-03-07 00:00:58.164877 UTC</td><td>&quot;humidity&quot;</td><td>94.16</td><td>&quot;bme280_0&quot;</td><td>&quot;mush/controllers/C1/sensors/bm…</td></tr><tr><td>2025-03-07 00:01:13.661649 UTC</td><td>&quot;humidity&quot;</td><td>94.17</td><td>&quot;bme280_0&quot;</td><td>&quot;mush/controllers/C1/sensors/bm…</td></tr><tr><td>&hellip;</td><td>&hellip;</td><td>&hellip;</td><td>&hellip;</td><td>&hellip;</td></tr><tr><td>2025-03-13 23:57:11.243800 UTC</td><td>&quot;temperature&quot;</td><td>68.51</td><td>&quot;scd_0&quot;</td><td>&quot;mush/controllers/C3/sensors/sc…</td></tr><tr><td>2025-03-13 23:57:49.471732 UTC</td><td>&quot;temperature&quot;</td><td>68.46</td><td>&quot;scd_0&quot;</td><td>&quot;mush/controllers/C3/sensors/sc…</td></tr><tr><td>2025-03-13 23:58:27.679373 UTC</td><td>&quot;temperature&quot;</td><td>68.44</td><td>&quot;scd_0&quot;</td><td>&quot;mush/controllers/C3/sensors/sc…</td></tr><tr><td>2025-03-13 23:59:06.072344 UTC</td><td>&quot;temperature&quot;</td><td>68.42</td><td>&quot;scd_0&quot;</td><td>&quot;mush/controllers/C3/sensors/sc…</td></tr><tr><td>2025-03-13 23:59:44.096798 UTC</td><td>&quot;temperature&quot;</td><td>68.44</td><td>&quot;scd_0&quot;</td><td>&quot;mush/controllers/C3/sensors/sc…</td></tr></tbody></table></div>"
      ],
      "text/plain": [
       "shape: (419_499, 5)\n",
       "┌────────────────────────────────┬─────────────┬───────┬──────────┬────────────────────────────────┐\n",
       "│ time                           ┆ measurement ┆ value ┆ sensor   ┆ topic                          │\n",
       "│ ---                            ┆ ---         ┆ ---   ┆ ---      ┆ ---                            │\n",
       "│ datetime[μs, UTC]              ┆ str         ┆ f64   ┆ str      ┆ str                            │\n",
       "╞════════════════════════════════╪═════════════╪═══════╪══════════╪════════════════════════════════╡\n",
       "│ 2025-03-07 00:00:11.618779 UTC ┆ humidity    ┆ 94.13 ┆ bme280_0 ┆ mush/controllers/C1/sensors/bm │\n",
       "│                                ┆             ┆       ┆          ┆ …                              │\n",
       "│ 2025-03-07 00:00:27.250501 UTC ┆ humidity    ┆ 94.14 ┆ bme280_0 ┆ mush/controllers/C1/sensors/bm │\n",
       "│                                ┆             ┆       ┆          ┆ …                              │\n",
       "│ 2025-03-07 00:00:42.814878 UTC ┆ humidity    ┆ 94.16 ┆ bme280_0 ┆ mush/controllers/C1/sensors/bm │\n",
       "│                                ┆             ┆       ┆          ┆ …                              │\n",
       "│ 2025-03-07 00:00:58.164877 UTC ┆ humidity    ┆ 94.16 ┆ bme280_0 ┆ mush/controllers/C1/sensors/bm │\n",
       "│                                ┆             ┆       ┆          ┆ …                              │\n",
       "│ 2025-03-07 00:01:13.661649 UTC ┆ humidity    ┆ 94.17 ┆ bme280_0 ┆ mush/controllers/C1/sensors/bm │\n",
       "│                                ┆             ┆       ┆          ┆ …                              │\n",
       "│ …                              ┆ …           ┆ …     ┆ …        ┆ …                              │\n",
       "│ 2025-03-13 23:57:11.243800 UTC ┆ temperature ┆ 68.51 ┆ scd_0    ┆ mush/controllers/C3/sensors/sc │\n",
       "│                                ┆             ┆       ┆          ┆ …                              │\n",
       "│ 2025-03-13 23:57:49.471732 UTC ┆ temperature ┆ 68.46 ┆ scd_0    ┆ mush/controllers/C3/sensors/sc │\n",
       "│                                ┆             ┆       ┆          ┆ …                              │\n",
       "│ 2025-03-13 23:58:27.679373 UTC ┆ temperature ┆ 68.44 ┆ scd_0    ┆ mush/controllers/C3/sensors/sc │\n",
       "│                                ┆             ┆       ┆          ┆ …                              │\n",
       "│ 2025-03-13 23:59:06.072344 UTC ┆ temperature ┆ 68.42 ┆ scd_0    ┆ mush/controllers/C3/sensors/sc │\n",
       "│                                ┆             ┆       ┆          ┆ …                              │\n",
       "│ 2025-03-13 23:59:44.096798 UTC ┆ temperature ┆ 68.44 ┆ scd_0    ┆ mush/controllers/C3/sensors/sc │\n",
       "│                                ┆             ┆       ┆          ┆ …                              │\n",
       "└────────────────────────────────┴─────────────┴───────┴──────────┴────────────────────────────────┘"
      ]
     },
     "execution_count": 13,
     "metadata": {},
     "output_type": "execute_result"
    }
   ],
   "source": [
    "df"
   ]
  },
  {
   "cell_type": "code",
   "execution_count": null,
   "metadata": {},
   "outputs": [],
   "source": []
  }
 ],
 "metadata": {
  "kernelspec": {
   "display_name": "Python 3.12 (Mushroom Analysis)",
   "language": "python",
   "name": "mushroom-analysis"
  },
  "language_info": {
   "codemirror_mode": {
    "name": "ipython",
    "version": 3
   },
   "file_extension": ".py",
   "mimetype": "text/x-python",
   "name": "python",
   "nbconvert_exporter": "python",
   "pygments_lexer": "ipython3",
   "version": "3.10.12"
  }
 },
 "nbformat": 4,
 "nbformat_minor": 2
}
