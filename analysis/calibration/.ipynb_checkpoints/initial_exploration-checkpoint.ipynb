{
 "cells": [],
 "metadata": {
  "kernelspec": {
   "display_name": "Python 3.12 (Mushroom Analysis)",
   "language": "python",
   "name": "mushroom-analysis"
  },
  "language_info": {
   "name": "python",
   "version": "3.10.12"
  }
 },
 "nbformat": 4,
 "nbformat_minor": 2
}
