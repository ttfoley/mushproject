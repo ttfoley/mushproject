{
 "cells": [
  {
   "cell_type": "code",
   "execution_count": 1,
   "metadata": {},
   "outputs": [],
   "source": [
    "import polars as pl\n",
    "from influxdb_client.client.influxdb_client import InfluxDBClient\n",
    "from influxdb_client import __version__ as influxdb_version\n",
    "from datetime import datetime, timedelta\n",
    "\n",
    "# InfluxDB connection\n",
    "url = \"http://192.168.1.17:8086\"\n",
    "token = \"_gCwoPkdKM6aF-SXB9crHatd4lKFBXKVcBHhyHMgCqTI2GvsxWkO6qooThciZp49Ra-dQR9B6jOd_ve5isMcHw==\"\n",
    "org = \"mush\"\n",
    "bucket = \"bucket\"\n",
    "\n",
    "client = InfluxDBClient(url=url, token=token, org=org)\n",
    "query_api = client.query_api()"
   ]
  },
  {
   "cell_type": "code",
   "execution_count": 2,
   "metadata": {},
   "outputs": [
    {
     "name": "stdout",
     "output_type": "stream",
     "text": [
      "Temperature sensors found:\n",
      "  - mush/controllers/C1/sensors/bme280_0/temperature\n",
      "  - mush/controllers/C1/sensors/bme280_1/temperature\n",
      "  - mush/controllers/C1/sensors/dht_0/temperature\n",
      "  - mush/controllers/C1/sensors/ds18b20_0/temperature\n",
      "  - mush/controllers/C1/sensors/ds18b20_1/temperature\n",
      "  - mush/controllers/C1/sensors/sht_0/temperature\n",
      "  - mush/controllers/C3/sensors/scd_0/temperature\n"
     ]
    }
   ],
   "source": [
    "# Find all temperature measurements\n",
    "structure_query = '''\n",
    "from(bucket: \"bucket\")\n",
    "  |> range(start: -2d)\n",
    "  |> filter(fn: (r) => r[\"topic\"] =~ /temperature$/)\n",
    "  |> distinct(column: \"topic\")\n",
    "'''\n",
    "\n",
    "result = query_api.query(structure_query)\n",
    "\n",
    "print(\"Temperature sensors found:\")\n",
    "for table in result:\n",
    "    for record in table.records:\n",
    "        print(f\"  - {record.get_value()}\")"
   ]
  },
  {
   "cell_type": "code",
   "execution_count": null,
   "metadata": {},
   "outputs": [],
   "source": [
    "# Get temperature data for all sensors\n",
    "query = '''\n",
    "from(bucket: \"bucket\")\n",
    "  |> range(start: -2d)\n",
    "  |> filter(fn: (r) => r[\"topic\"] =~ /temperature$/)\n",
    "  |> pivot(rowKey:[\"_time\"], columnKey: [\"topic\"], valueColumn: \"_value\")\n",
    "'''\n",
    "\n",
    "result = query_api.query(query)\n",
    "\n",
    "# Convert to Polars DataFrame\n",
    "records = []\n",
    "for table in result:\n",
    "    for record in table.records:\n",
    "        row = {\n",
    "            'time': record.get_time(),\n",
    "            **{k: v for k, v in record.values.items() if not k.startswith('_')}\n",
    "        }\n",
    "        records.append(row)\n",
    "\n",
    "df = pl.DataFrame(records)\n",
    "\n",
    "print(\"Data shape:\", df.shape)\n",
    "print(\"\\nColumns:\", df.columns)\n",
    "print(\"\\nFirst few rows:\")\n",
    "df.head()"
   ]
  }
 ],
 "metadata": {
  "kernelspec": {
   "display_name": "Python 3.12 (Mushroom Analysis)",
   "language": "python",
   "name": "mushroom-analysis"
  },
  "language_info": {
   "codemirror_mode": {
    "name": "ipython",
    "version": 3
   },
   "file_extension": ".py",
   "mimetype": "text/x-python",
   "name": "python",
   "nbconvert_exporter": "python",
   "pygments_lexer": "ipython3",
   "version": "3.10.12"
  }
 },
 "nbformat": 4,
 "nbformat_minor": 2
}
